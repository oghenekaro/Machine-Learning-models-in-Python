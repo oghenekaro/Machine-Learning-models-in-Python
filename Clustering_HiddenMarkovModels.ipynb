{
  "nbformat": 4,
  "nbformat_minor": 0,
  "metadata": {
    "colab": {
      "name": "Clustering.ipynb",
      "provenance": [],
      "authorship_tag": "ABX9TyPlOn3MxYRUACnykilb0GS/",
      "include_colab_link": true
    },
    "kernelspec": {
      "name": "python3",
      "display_name": "Python 3"
    },
    "language_info": {
      "name": "python"
    }
  },
  "cells": [
    {
      "cell_type": "markdown",
      "metadata": {
        "id": "view-in-github",
        "colab_type": "text"
      },
      "source": [
        "<a href=\"https://colab.research.google.com/github/oghenekaro/Machine-Learning-models-in-Python/blob/main/Clustering_HiddenMarkovModels.ipynb\" target=\"_parent\"><img src=\"https://colab.research.google.com/assets/colab-badge.svg\" alt=\"Open In Colab\"/></a>"
      ]
    },
    {
      "cell_type": "markdown",
      "metadata": {
        "id": "TxWNOmTxY2gJ"
      },
      "source": [
        "Clustering is a Machine Learning technique that involves the grouping of data points. "
      ]
    },
    {
      "cell_type": "code",
      "metadata": {
        "id": "cbjTRhkQW6SO"
      },
      "source": [
        "import tensorflow_probability as tfp # \n",
        "import tensorflow as tf"
      ],
      "execution_count": 2,
      "outputs": []
    },
    {
      "cell_type": "markdown",
      "metadata": {
        "id": "-gZXzGJfvfXZ"
      },
      "source": [
        "Weather model Hidden Markov Model\n",
        "Taken directly from the TensorFlow documentation\n",
        "https://www.tensorflow.org/probability/api_docs/python/tfp/distributions/HiddenMarkovModel\n",
        "\n",
        "We will model a simple weather system and try to predict the temperature on each day given the following information:\n",
        "1. cold days are encoded by a 0 and hot days are encoded by a 1.\n",
        "2. The first day in our sequence has an 80% chance of being cold.\n",
        "3. A cold day has a 30% chance of being followed by a hot day.\n",
        "4. A hot day has a 20% chance of being followed by a cold day.\n",
        "5. On each day the temperature is normally distributed with mean and standard deviation 0 and 5 on a cold day and mean and standard deviation 15 and 10 on a hot day.\n",
        "\n",
        "To model this in TensorFlow, we will do the following:"
      ]
    },
    {
      "cell_type": "code",
      "metadata": {
        "id": "ky6LYGnUwvCJ"
      },
      "source": [
        "tfd = tfp.distributions # making a shortcult for later on\n",
        "initial_distribution = tfd.Categorical(probs=[0.2, 0.8]) # Refer to point 2 above\n",
        "transition_distribution = tfd.Categorical(probs=[[0.7, 0.3],\n",
        "                                                  [0.2, 0.8]]) # Refer to points 3 & 4 above\n",
        "observation_distribution = tfd.Normal(loc=[0., 15.], scale=[5., 10.]) # Refer to point 5 above\n",
        "\n",
        "# The loc argument represents the mean and the scale is the standard deviation"
      ],
      "execution_count": 9,
      "outputs": []
    },
    {
      "cell_type": "markdown",
      "metadata": {
        "id": "QII62zTwyjkq"
      },
      "source": [
        "We have not created distribution variables to model our system and it's time to create the Hidden Markov model"
      ]
    },
    {
      "cell_type": "code",
      "metadata": {
        "id": "7vt1fDz4yqoS"
      },
      "source": [
        "model = tfd.HiddenMarkovModel(\n",
        "    initial_distribution = initial_distribution,\n",
        "    transition_distribution = transition_distribution,\n",
        "    observation_distribution = observation_distribution,\n",
        "    num_steps = 7\n",
        ")\n",
        "\n",
        "# The number of steps represents the number of days that we would like to predict information for. In this case, we've chosen 7, an entire week."
      ],
      "execution_count": 10,
      "outputs": []
    },
    {
      "cell_type": "code",
      "metadata": {
        "colab": {
          "base_uri": "https://localhost:8080/"
        },
        "id": "l2sCRhB3zRKC",
        "outputId": "3b5e7444-fc4b-47c3-ac1f-0dd0d473bcc9"
      },
      "source": [
        "# To get the expected temperatures on each day we can do the following:\n",
        "mean = model.mean()\n",
        "\n",
        "with tf.compat.v1.Session() as sess:\n",
        "  print(mean.numpy())"
      ],
      "execution_count": 11,
      "outputs": [
        {
          "output_type": "stream",
          "name": "stdout",
          "text": [
            "[11.999999 10.500001  9.75      9.375     9.1875    9.09375   9.046875]\n"
          ]
        }
      ]
    }
  ]
}